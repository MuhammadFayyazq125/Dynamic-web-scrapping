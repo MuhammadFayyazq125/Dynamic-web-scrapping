{
 "cells": [
  {
   "cell_type": "code",
   "execution_count": 1,
   "metadata": {},
   "outputs": [],
   "source": [
    "from selenium import webdriver\n",
    "import time"
   ]
  },
  {
   "cell_type": "code",
   "execution_count": 10,
   "metadata": {},
   "outputs": [],
   "source": [
    "driver = webdriver.Chrome(executable_path = \"C:/Users/R01-PC03/Downloads/chromedriver_win32 (1)/chromedriver.exe\")\n",
    "\n",
    "driver.get(\"https://www.facebook.com/\")\n",
    "time.sleep(5)\n",
    "#send keys\n",
    "email = driver.find_element_by_id(\"email\").send_keys(\"Muhammad Fayyaz\")\n",
    "password = driver.find_element_by_id(\"pass\").send_keys(\"muhammad fayyaz\")\n",
    "\n",
    "#.click()\n",
    "login = driver.find_element_by_xpath(\"//button[@class='_42ft _4jy0 _6lth _4jy6 _4jy1 selected _51sy']\").click()\n",
    "\n",
    "time.sleep(20)\n",
    "\n",
    "driver.close()"
   ]
  },
  {
   "cell_type": "code",
   "execution_count": 26,
   "metadata": {},
   "outputs": [],
   "source": [
    "driver = webdriver.Chrome(executable_path = \"C:/Users/R01-PC03/Downloads/chromedriver_win32 (1)/chromedriver.exe\")\n",
    "\n",
    "driver.get(\"https://www.facebook.com/signup\")\n",
    "time.sleep(10)\n",
    "\n",
    "#send keys \n",
    "first_name = driver.find_element_by_name(\"firstname\").send_keys(\"Muhammad\")\n",
    "last_name = driver.find_element_by_name(\"lastname\").send_keys(\"Fayyaz\")\n",
    "email_mob = driver.find_element_by_name(\"reg_email__\").send_keys(\"0315 2268067\")\n",
    "password = driver.find_element_by_name(\"reg_passwd__\").send_keys(\"Muhammadfayyaz125\")\n",
    "\n",
    "date = driver.find_element_by_name(\"birthday_day\").send_keys(\"5\")\n",
    "month = driver.find_element_by_name(\"birthday_month\").send_keys(\"Dec\")\n",
    "year = driver.find_element_by_name(\"birthday_year\").send_keys(\"1997\")\n",
    "\n",
    "radio_button = driver.find_element_by_xpath(\"//input[@value = '2']\").click()\n",
    "\n",
    "submit_button = driver.find_element_by_name(\"websubmit\").click()\n"
   ]
  },
  {
   "cell_type": "code",
   "execution_count": null,
   "metadata": {},
   "outputs": [],
   "source": []
  }
 ],
 "metadata": {
  "kernelspec": {
   "display_name": "Python 3",
   "language": "python",
   "name": "python3"
  },
  "language_info": {
   "codemirror_mode": {
    "name": "ipython",
    "version": 3
   },
   "file_extension": ".py",
   "mimetype": "text/x-python",
   "name": "python",
   "nbconvert_exporter": "python",
   "pygments_lexer": "ipython3",
   "version": "3.8.5"
  }
 },
 "nbformat": 4,
 "nbformat_minor": 4
}
